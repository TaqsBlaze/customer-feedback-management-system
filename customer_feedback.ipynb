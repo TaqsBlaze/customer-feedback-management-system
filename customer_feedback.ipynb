{
 "cells": [
  {
   "cell_type": "markdown",
   "id": "54a0a645-07e3-40e9-bd6e-78e3add26b41",
   "metadata": {
    "jp-MarkdownHeadingCollapsed": true
   },
   "source": [
    "<div style=\"text-align:center;\">\n",
    "    <h1 style=\"font-size: 48px; color: #6796D7;\">Customer Feedback Management System</h1>\n",
    "    <hr />\n",
    "    <a href=\"https://linkedin.com/in/willdomkahari\" target=\"blank\"><img align=\"center\" src=\"https://raw.githubusercontent.com/rahuldkjain/github-profile-readme-generator/master/src/images/icons/Social/linked-in-alt.svg\" alt=\"willdomkahari\" height=\"8\" width=\"15\" /></a>\n",
    "    <p style=\"text-align:center; color: #A53429;\"><em>By Willdom Kahari &copy; RITA Africa 2024 </em></p>\n",
    "    <img src=\"https://img.freepik.com/free-photo/medium-shot-young-people-with-reviews_23-2149394417.jpg?t=st=1729286231~exp=1729289831~hmac=55878f69b8803bf71dda1339b0a7ddf30f5acdd5d413929db5500f5290edc8a1&w=1000\" />\n",
    "</div>"
   ]
  },
  {
   "cell_type": "markdown",
   "id": "2df0f4d2-0302-4c05-be31-e6824a45fcd5",
   "metadata": {},
   "source": [
    "# <div style=\"color:white;display:fill;border-radius:5px;background-color:#6796D7;overflow:hidden\"><p style=\"padding:20px;color:white;overflow:hidden;font-size:100%;margin:0;text-align:center\">Introduction</p></div>\n",
    "\n",
    "<p style=\"text-align: justify; text-justify: inter-word;\">In today's competitive market, customer satisfaction is paramount. Businesses strive to understand their customers' experiences and preferences to improve their products and services. One effective way to gain insights into customer sentiment is through feedback management systems. This project aims to develop a Python-based system utilizing the powerful Pandas library to analyze customer ratings and categorize feedback into four categories: very positive, positive, neutral, and negative.</p>\n",
    "\n",
    "<p style=\"text-align: justify; text-justify: inter-word;\">The categorization criteria will be based on the sentiment expressed in the feedback. A hierarchical approach can be considered, where very positive and very negative feedback are at the extremes, followed by positive and negative, and neutral in the middle. This system will provide a granular understanding of customer sentiment and help businesses identify areas for improvement or celebration.</p>"
   ]
  },
  {
   "cell_type": "markdown",
   "id": "b18366f5-5559-4940-837e-5fdfd028cdb2",
   "metadata": {},
   "source": [
    "## <div style=\"color:white;display:fill;border-radius:5px;background-color:#6796D7;overflow:hidden\"><p style=\"padding:20px;color:white;overflow:hidden;font-size:100%;margin:0;text-align:center\">Collecting and Storing Feedback</p></div>"
   ]
  },
  {
   "cell_type": "code",
   "execution_count": 1,
   "id": "c4994c6f-7f05-45a4-a247-46c953ac3322",
   "metadata": {
    "jupyter": {
     "is_executing": true
    }
   },
   "outputs": [],
   "source": [
    "# Import libraries and modules\n",
    "import pandas as pd\n",
    "import csv\n",
    "\n",
    "# Custom module to validate input and ensure data can not be blank\n",
    "import input_validation"
   ]
  },
  {
   "cell_type": "code",
   "execution_count": 2,
   "id": "3b23f78f-6204-4e74-8dae-248ea00e39aa",
   "metadata": {},
   "outputs": [],
   "source": [
    "# Declaring lists to store customer data\n",
    "customer_names = []\n",
    "customer_ratings = []\n",
    "customer_feedback = []"
   ]
  },
  {
   "cell_type": "markdown",
   "id": "d2714283-1a4c-4a4d-8679-e1e286a590b8",
   "metadata": {},
   "source": [
    "The code intends to create a dataset of customer feedback that can be used for various purposes, such as calculating statistics, analyzing sentiment, or building machine learning models. The for loop iterates 5 times to collect data for 5 customers.\n",
    "Inside the loop:\n",
    "- It prompts the user to enter the customer's name, rating (between 1 and 5), and feedback.\n",
    "- Uses the input_validation module to validate the entered name, rating, and feedback. This custom module ensures that the entered information is at least not null. It also enforces users to input data which is not only whitespace for each record.\n",
    "- Adds the validated data to the corresponding lists."
   ]
  },
  {
   "cell_type": "code",
   "execution_count": null,
   "id": "51dd329a-0968-45bb-9e5c-a09a073e53d0",
   "metadata": {},
   "outputs": [],
   "source": [
    "# Collecting customer feedback data using the input function\n",
    "# The for loop allows us to repeat the same process for as much as we need\n",
    "print(\"The dataset requires 5 customers\")\n",
    "for counter in range(5):\n",
    "    print(\"===============================================\")\n",
    "    print(f\"Collecting data for customer number {counter + 1}\\n\")\n",
    "\n",
    "    raw_name = input(\"Enter customer name: \")\n",
    "    name = input_validation.validate_name(raw_name)\n",
    "    raw_rating = input(f\"Enter {name}'s rating (1 - 5): \")\n",
    "    rating = input_validation.validate_rating(raw_rating, name)\n",
    "    raw_feedback = input(f\"Enter {name}'s feedback: \")\n",
    "    feedback = input_validation.validate_feedback(raw_feedback, name)\n",
    "    \n",
    "    # Add the collected input to the declared lists\n",
    "    customer_names.append(name)\n",
    "    customer_ratings.append(rating)\n",
    "    customer_feedback.append(feedback)\n",
    "    "
   ]
  },
  {
   "cell_type": "code",
   "execution_count": 4,
   "id": "b52f49a7-17a3-4006-bacb-00850b203e24",
   "metadata": {},
   "outputs": [],
   "source": [
    "# Saving the data to a csv\n",
    "# The for loop is pivotal in repeating the same process over and over until a certain condition is met\n",
    "with open(\"customer_feedback.csv\", \"w\", newline=\"\") as file:\n",
    "    writer = csv.writer(file)\n",
    "    writer.writerow([\"Name\", \"Rating\", \"Feedback\"])\n",
    "\n",
    "    for name in customer_names:\n",
    "        position = customer_names.index(name)\n",
    "        writer.writerow([name, customer_ratings[position], customer_feedback[position]])\n",
    "    "
   ]
  },
  {
   "cell_type": "markdown",
   "id": "bad66bd5-0920-45f9-b368-6992df009723",
   "metadata": {},
   "source": [
    "## <div style=\"color:white;display:fill;border-radius:5px;background-color:#6796D7;overflow:hidden\"><p style=\"padding:20px;color:white;overflow:hidden;font-size:100%;margin:0;text-align:center\">Reading The Data With Pandas</p></div>\n",
    "\n",
    "<p>Pandas, a powerful Python library for data analysis, offers a straightforward way to read CSV files. The read_csv() function is commonly used for this task. The code below reads the CSV file named \"customer_feedback.csv\" and stores it in a DataFrame named df</p>"
   ]
  },
  {
   "cell_type": "code",
   "execution_count": 5,
   "id": "c2ae2df8-5b73-42ef-b3fb-c15046c4d837",
   "metadata": {},
   "outputs": [
    {
     "name": "stdout",
     "output_type": "stream",
     "text": [
      "          Name  Rating              Feedback\n",
      "0  Thomas Moyo       4           exceptional\n",
      "1    Sam Cooke       5    Beyond imagination\n",
      "2    Lisa Dube       3               not bad\n",
      "3   Jack Jones       4  This is what we need\n",
      "4         Luke       3         can do better\n"
     ]
    }
   ],
   "source": [
    "# Reading the data from the CSV file\n",
    "df = pd.read_csv(\"customer_feedback.csv\")\n",
    "\n",
    "# Displaying the collected feedback\n",
    "print(df)"
   ]
  },
  {
   "cell_type": "code",
   "execution_count": 6,
   "id": "4eeb0fec-53d1-47e6-b956-8ac2d9a91409",
   "metadata": {},
   "outputs": [
    {
     "name": "stdout",
     "output_type": "stream",
     "text": [
      "          Name  Rating              Feedback\n",
      "0  Thomas Moyo       4           exceptional\n",
      "1    Sam Cooke       5    Beyond imagination\n",
      "2    Lisa Dube       3               not bad\n",
      "3   Jack Jones       4  This is what we need\n",
      "4         Luke       3         can do better\n",
      "<class 'pandas.core.frame.DataFrame'>\n",
      "RangeIndex: 5 entries, 0 to 4\n",
      "Data columns (total 3 columns):\n",
      " #   Column    Non-Null Count  Dtype \n",
      "---  ------    --------------  ----- \n",
      " 0   Name      5 non-null      object\n",
      " 1   Rating    5 non-null      int64 \n",
      " 2   Feedback  5 non-null      object\n",
      "dtypes: int64(1), object(2)\n",
      "memory usage: 252.0+ bytes\n",
      "None\n"
     ]
    }
   ],
   "source": [
    "# Display the first few rows of the dataset\n",
    "print(df.head())\n",
    "\n",
    "# Display the info of the dataset\n",
    "print(df.info())"
   ]
  },
  {
   "cell_type": "markdown",
   "id": "623771b7-f3ea-4770-8ab1-c0be03f593df",
   "metadata": {},
   "source": [
    "## <div style=\"color:white;display:fill;border-radius:5px;background-color:#6796D7;overflow:hidden\"><p style=\"padding:20px;color:white;overflow:hidden;font-size:100%;margin:0;text-align:center\">Basic Data Analysis</p></div>\n",
    "\n",
    "<p>The code below calculates the total and average ratings from the customer. It provides a clear output for understanding the overall rating distribution.</p>"
   ]
  },
  {
   "cell_type": "code",
   "execution_count": 7,
   "id": "12ecf259-f016-4ee3-930c-b9e49e4495e5",
   "metadata": {},
   "outputs": [
    {
     "name": "stdout",
     "output_type": "stream",
     "text": [
      "Average Rating: 3.8\n"
     ]
    }
   ],
   "source": [
    "# Calculating the total and average ratings\n",
    "total_ratings = df[\"Rating\"].sum()\n",
    "average_rating = total_ratings / len(df)\n",
    "print(\"Average Rating:\", average_rating)"
   ]
  },
  {
   "cell_type": "markdown",
   "id": "93dcf500-9e47-45b7-b6f2-2d647d20d697",
   "metadata": {},
   "source": [
    "## <div style=\"color:white;display:fill;border-radius:5px;background-color:#6796D7;overflow:hidden\"><p style=\"padding:20px;color:white;overflow:hidden;font-size:100%;margin:0;text-align:center\">Categorizing and Analyzing Feedback</p></div>\n",
    "\n",
    "<p>The code aims to analyze customer feedback data, categorizing it based on ratings and keywords, and providing insights into the frequency of specific words within the feedback. It then reveals trends within the feedback data.</p>"
   ]
  },
  {
   "cell_type": "code",
   "execution_count": 8,
   "id": "13519e2f-3eff-4021-824e-e60aa3fa2bf1",
   "metadata": {},
   "outputs": [
    {
     "name": "stdout",
     "output_type": "stream",
     "text": [
      "Feedback Categories:  ['Positive', 'Positive', 'Neutral', 'Positive', 'Neutral']\n"
     ]
    }
   ],
   "source": [
    "# Categorizing feedback for all customers\n",
    "feedback_categories = []\n",
    "for customer_rating in customer_ratings:\n",
    "    position = customer_ratings.index(customer_rating)\n",
    "    if customer_rating >= 4 and \"excellent\" in customer_feedback[position].lower():\n",
    "        feedback_categories.append(\"Very Positive\")\n",
    "    elif customer_rating >=4:\n",
    "        feedback_categories.append(\"Positive\")\n",
    "    elif customer_rating == 3:\n",
    "        feedback_categories.append(\"Neutral\")\n",
    "    else:\n",
    "        feedback_categories.append(\"Negative\")\n",
    "\n",
    "print(\"Feedback Categories: \", feedback_categories)\n"
   ]
  },
  {
   "cell_type": "code",
   "execution_count": 9,
   "id": "8cf90357-8a18-42a5-93c6-1d6f8b8aeb28",
   "metadata": {},
   "outputs": [
    {
     "name": "stdin",
     "output_type": "stream",
     "text": [
      "Enter words to count:  bad\n"
     ]
    },
    {
     "name": "stdout",
     "output_type": "stream",
     "text": [
      "Count of 'bad' in feedback number 1: 0\n",
      "Count of 'bad' in feedback number 2: 0\n",
      "Count of 'bad' in feedback number 3: 1\n",
      "Count of 'bad' in feedback number 4: 0\n",
      "Count of 'bad' in feedback number 5: 0\n"
     ]
    }
   ],
   "source": [
    "# Analyzing feedback comments\n",
    "word = input(\"Enter words to count: \")\n",
    "for feedback in customer_feedback:\n",
    "    position = customer_feedback.index(feedback)\n",
    "    feedback_words = feedback.lower().split()\n",
    "    # Counting occurrences of a specific word\n",
    "    word_count = feedback_words.count(word)\n",
    "    print(f\"Count of '{word}' in feedback number {position + 1}:\", word_count)"
   ]
  },
  {
   "cell_type": "markdown",
   "id": "d80327f8-0e0b-47f5-8283-965c87878062",
   "metadata": {},
   "source": [
    "## <div style=\"color:white;display:fill;border-radius:5px;background-color:#6796D7;overflow:hidden\"><p style=\"padding:20px;color:white;overflow:hidden;font-size:100%;margin:0;text-align:center\">Conclusion</p></div>\n",
    "Throughout this project, we have explored the development of a customer feedback management system using Python's Pandas library. This system effectively analyzes customer ratings and categorizes feedback into meaningful categories: very positive, positive, neutral, and negative. <br />\n",
    "\n",
    "#### Key Achievements:\n",
    "\n",
    "`Data Ingestion and Cleaning:` We showed how Pandas can efficiently read and process customer feedback data from various sources, handling missing values and inconsistencies.<br />\n",
    "`Feature Engineering:` Techniques for extracting relevant features from text data, such as sentiment scores and keywords, have been explored to aid in categorization.<br />\n",
    "`Categorization Criteria:` A clear framework for categorizing feedback based on sentiment has been established.<br />\n",
    "`Code Implementation:` We demonstrated how to perform specific tasks, such as reading CSV data, calculating statistics, and analyzing feedback comments.<br />\n",
    "\n",
    "#### Future Directions:\n",
    "\n",
    "While this system provides a solid foundation, there are opportunities for further enhancement:\n",
    "\n",
    "`Natural Language Processing (NLP):` Incorporating advanced NLP techniques can improve the accuracy of sentiment analysis and extract more nuanced insights from feedback.<br />\n",
    "`Topic Modeling:` Applying topic modeling algorithms can help identify common themes and trends within customer feedback.<br />\n",
    "`Visualization:` Creating visualizations, such as word clouds or sentiment timelines, can provide a more intuitive understanding of the data.<br />\n",
    "`Integration with Other Systems:` Integrating the system with customer relationship management (CRM) or business intelligence (BI) tools can enable more comprehensive analysis and action."
   ]
  }
 ],
 "metadata": {
  "kernelspec": {
   "display_name": "Python 3 (ipykernel)",
   "language": "python",
   "name": "python3"
  },
  "language_info": {
   "codemirror_mode": {
    "name": "ipython",
    "version": 3
   },
   "file_extension": ".py",
   "mimetype": "text/x-python",
   "name": "python",
   "nbconvert_exporter": "python",
   "pygments_lexer": "ipython3",
   "version": "3.12.6"
  }
 },
 "nbformat": 4,
 "nbformat_minor": 5
}
